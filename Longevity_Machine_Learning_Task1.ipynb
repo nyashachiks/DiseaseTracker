{
 "cells": [
  {
   "cell_type": "code",
   "execution_count": 48,
   "metadata": {},
   "outputs": [
    {
     "data": {
      "text/plain": [
       "array(['N'], dtype=object)"
      ]
     },
     "execution_count": 48,
     "metadata": {},
     "output_type": "execute_result"
    }
   ],
   "source": [
    "import pandas as pd\n",
    "from sklearn.tree import DecisionTreeClassifier\n",
    "from sklearn.model_selection import train_test_split\n",
    "from sklearn.metrics import accuracy_score\n",
    "from sklearn. externals import joblib\n",
    "\n",
    "biomarker_data = pd.read_csv('1. Data for the task 1.csv')\n",
    "# -for gender 'M' = 1 and 'F' = 0, converted in my custom function, utilities.load_spreadsheet\n",
    "X = biomarker_data.drop(columns=['ID', 'No_Pation', 'CLASS'])\n",
    "y = biomarker_data['CLASS']\n",
    "X_train, X_test, y_train, y_test = train_test_split(X, y, test_size=0.2)\n",
    "\n",
    "model = DecisionTreeClassifier()\n",
    "model.fit(X_train, y_train)\n",
    "\n",
    "# -if I want to persist my trained model\n",
    "# joblib.dump(model, 'biomarker_model.joblib')\n",
    "\n",
    "# -if I want to predict using my persisted model to avaoid re-training\n",
    "# joblib.load(model, 'biomarker_model.joblib')\n",
    "\n",
    "# -my testing array\n",
    "# predictions = model.predict(X_test)\n",
    "\n",
    "# -or my one input e.g. from a user's device\n",
    "predictions = model.predict([ [0, 51, 4.7, 46, 4.9, 4.2, 0.7, 2.4, 1.4, 0.5, 22] ])\n",
    "predictions"
   ]
  },
  {
   "cell_type": "code",
   "execution_count": 46,
   "metadata": {},
   "outputs": [
    {
     "data": {
      "text/plain": [
       "0.985"
      ]
     },
     "execution_count": 46,
     "metadata": {},
     "output_type": "execute_result"
    }
   ],
   "source": [
    "score = accuracy_score(y_test, predictions)\n",
    "score"
   ]
  },
  {
   "cell_type": "code",
   "execution_count": null,
   "metadata": {},
   "outputs": [],
   "source": []
  }
 ],
 "metadata": {
  "kernelspec": {
   "display_name": "Python 3",
   "language": "python",
   "name": "python3"
  },
  "language_info": {
   "codemirror_mode": {
    "name": "ipython",
    "version": 3
   },
   "file_extension": ".py",
   "mimetype": "text/x-python",
   "name": "python",
   "nbconvert_exporter": "python",
   "pygments_lexer": "ipython3",
   "version": "3.7.3"
  }
 },
 "nbformat": 4,
 "nbformat_minor": 2
}
